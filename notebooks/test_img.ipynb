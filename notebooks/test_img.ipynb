{
 "cells": [
  {
   "cell_type": "code",
   "execution_count": 1,
   "metadata": {},
   "outputs": [],
   "source": [
    "from transformers import DetrImageProcessor, DetrForObjectDetection\n",
    "from PIL import Image, ImageDraw, ImageFont\n",
    "import requests\n",
    "import torch"
   ]
  },
  {
   "cell_type": "code",
   "execution_count": 2,
   "metadata": {},
   "outputs": [],
   "source": [
    "image = Image.open(\"test_imgs/Lionel-Messi-Kylian-Mbappe-Paris-gagnant.jpg\")"
   ]
  },
  {
   "cell_type": "code",
   "execution_count": 3,
   "metadata": {},
   "outputs": [
    {
     "name": "stdout",
     "output_type": "stream",
     "text": [
      "Detected person with confidence 0.993 at location [658.68, 480.52, 877.11, 1129.2]\n",
      "Detected person with confidence 0.995 at location [32.29, 471.81, 449.33, 1148.73]\n",
      "Detected person with confidence 0.999 at location [766.33, 186.6, 1330.44, 1316.73]\n",
      "Detected person with confidence 0.968 at location [1081.24, 119.68, 1284.37, 455.65]\n",
      "Detected person with confidence 1.0 at location [1247.76, 102.37, 1765.05, 1292.22]\n"
     ]
    }
   ],
   "source": [
    "# you can specify the revision tag if you don't want the timm dependency\n",
    "processor = DetrImageProcessor.from_pretrained(\"facebook/detr-resnet-50\", revision=\"no_timm\")\n",
    "model = DetrForObjectDetection.from_pretrained(\"facebook/detr-resnet-50\", revision=\"no_timm\")\n",
    "\n",
    "inputs = processor(images=image, return_tensors=\"pt\")\n",
    "outputs = model(**inputs)\n",
    "\n",
    "# convert outputs (bounding boxes and class logits) to COCO API\n",
    "# let's only keep detections with score > 0.95\n",
    "target_sizes = torch.tensor([image.size[::-1]])\n",
    "results = processor.post_process_object_detection(outputs, target_sizes=target_sizes, threshold=0.95)[0]\n",
    "\n",
    "for score, label, box in zip(results[\"scores\"], results[\"labels\"], results[\"boxes\"]):\n",
    "    box = [round(i, 2) for i in box.tolist()]\n",
    "    print(\n",
    "            f\"Detected {model.config.id2label[label.item()]} with confidence \"\n",
    "            f\"{round(score.item(), 3)} at location {box}\"\n",
    "    )"
   ]
  },
  {
   "cell_type": "code",
   "execution_count": 4,
   "metadata": {},
   "outputs": [],
   "source": [
    "# Créer un objet de dessin pour l'image\n",
    "draw = ImageDraw.Draw(image)\n",
    "\n",
    "# Optionnel : Définir une police pour le texte (si disponible)\n",
    "try:\n",
    "    font = ImageFont.truetype(\"arial.ttf\", size=15)\n",
    "except IOError:\n",
    "    font = ImageFont.load_default()\n",
    "\n",
    "# Parcourir les détections et dessiner les boîtes\n",
    "for score, label, box in zip(results[\"scores\"], results[\"labels\"], results[\"boxes\"]):\n",
    "    # Convertir les coordonnées des boîtes en entiers\n",
    "    box = [round(i, 2) for i in box.tolist()]\n",
    "    x_min, y_min, x_max, y_max = map(int, box)\n",
    "\n",
    "    # Dessiner le rectangle\n",
    "    draw.rectangle([x_min, y_min, x_max, y_max], outline=\"red\", width=3)\n",
    "\n",
    "    # Ajouter le label et le score\n",
    "    label_text = f\"{model.config.id2label[label.item()]}: {round(score.item(), 2)}\"\n",
    "    \n",
    "    # Calculer les dimensions du texte (bbox)\n",
    "    text_bbox = draw.textbbox((0, 0), label_text, font=font)\n",
    "    text_width = text_bbox[2] - text_bbox[0]  # Largeur du texte\n",
    "    text_height = text_bbox[3] - text_bbox[1]  # Hauteur du texte\n",
    "\n",
    "    # Dessiner le fond du texte (rectangle rouge derrière le texte)\n",
    "    text_bg = [x_min, y_min - text_height, x_min + text_width, y_min]\n",
    "    \n",
    "    draw.rectangle(text_bg, fill=\"red\")\n",
    "\n",
    "    # Dessiner le texte\n",
    "    draw.text((x_min, y_min - text_height), label_text, fill=\"white\", font=font)\n",
    "\n",
    "# Afficher ou enregistrer l'image annotée\n",
    "image.show()  # Ouvrir dans une visionneuse d'images\n",
    "#image.save(\"output_image.jpg\")  # Sauvegarder l'image annotée\n"
   ]
  }
 ],
 "metadata": {
  "kernelspec": {
   "display_name": "base",
   "language": "python",
   "name": "python3"
  },
  "language_info": {
   "codemirror_mode": {
    "name": "ipython",
    "version": 3
   },
   "file_extension": ".py",
   "mimetype": "text/x-python",
   "name": "python",
   "nbconvert_exporter": "python",
   "pygments_lexer": "ipython3",
   "version": "3.12.7"
  }
 },
 "nbformat": 4,
 "nbformat_minor": 2
}
