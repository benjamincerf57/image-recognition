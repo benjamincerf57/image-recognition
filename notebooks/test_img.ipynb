{
 "cells": [
  {
   "cell_type": "code",
   "execution_count": 1,
   "metadata": {},
   "outputs": [],
   "source": [
    "from transformers import DetrImageProcessor, DetrForObjectDetection\n",
    "from PIL import Image\n",
    "import requests"
   ]
  },
  {
   "cell_type": "code",
   "execution_count": 2,
   "metadata": {},
   "outputs": [
    {
     "data": {
      "application/vnd.jupyter.widget-view+json": {
       "model_id": "8e6f04f38c214f048149ea5dada49ab1",
       "version_major": 2,
       "version_minor": 0
      },
      "text/plain": [
       "model.safetensors:   0%|          | 0.00/102M [00:00<?, ?B/s]"
      ]
     },
     "metadata": {},
     "output_type": "display_data"
    },
    {
     "name": "stderr",
     "output_type": "stream",
     "text": [
      "c:\\Users\\benja\\anaconda3\\Lib\\site-packages\\huggingface_hub\\file_download.py:140: UserWarning: `huggingface_hub` cache-system uses symlinks by default to efficiently store duplicated files but your machine does not support them in C:\\Users\\benja\\.cache\\huggingface\\hub\\models--timm--resnet50.a1_in1k. Caching files will still work but in a degraded version that might require more space on your disk. This warning can be disabled by setting the `HF_HUB_DISABLE_SYMLINKS_WARNING` environment variable. For more details, see https://huggingface.co/docs/huggingface_hub/how-to-cache#limitations.\n",
      "To support symlinks on Windows, you either need to activate Developer Mode or to run Python as an administrator. In order to activate developer mode, see this article: https://docs.microsoft.com/en-us/windows/apps/get-started/enable-your-device-for-development\n",
      "  warnings.warn(message)\n",
      "Some weights of the model checkpoint at facebook/detr-resnet-50 were not used when initializing DetrForObjectDetection: ['model.backbone.conv_encoder.model.layer1.0.downsample.1.num_batches_tracked', 'model.backbone.conv_encoder.model.layer2.0.downsample.1.num_batches_tracked', 'model.backbone.conv_encoder.model.layer3.0.downsample.1.num_batches_tracked', 'model.backbone.conv_encoder.model.layer4.0.downsample.1.num_batches_tracked']\n",
      "- This IS expected if you are initializing DetrForObjectDetection from the checkpoint of a model trained on another task or with another architecture (e.g. initializing a BertForSequenceClassification model from a BertForPreTraining model).\n",
      "- This IS NOT expected if you are initializing DetrForObjectDetection from the checkpoint of a model that you expect to be exactly identical (initializing a BertForSequenceClassification model from a BertForSequenceClassification model).\n"
     ]
    },
    {
     "data": {
      "application/vnd.jupyter.widget-view+json": {
       "model_id": "0aa8c0abef0540c7a73ac412573bf010",
       "version_major": 2,
       "version_minor": 0
      },
      "text/plain": [
       "preprocessor_config.json:   0%|          | 0.00/290 [00:00<?, ?B/s]"
      ]
     },
     "metadata": {},
     "output_type": "display_data"
    },
    {
     "name": "stderr",
     "output_type": "stream",
     "text": [
      "c:\\Users\\benja\\anaconda3\\Lib\\site-packages\\huggingface_hub\\file_download.py:140: UserWarning: `huggingface_hub` cache-system uses symlinks by default to efficiently store duplicated files but your machine does not support them in C:\\Users\\benja\\.cache\\huggingface\\hub\\models--facebook--detr-resnet-50. Caching files will still work but in a degraded version that might require more space on your disk. This warning can be disabled by setting the `HF_HUB_DISABLE_SYMLINKS_WARNING` environment variable. For more details, see https://huggingface.co/docs/huggingface_hub/how-to-cache#limitations.\n",
      "To support symlinks on Windows, you either need to activate Developer Mode or to run Python as an administrator. In order to activate developer mode, see this article: https://docs.microsoft.com/en-us/windows/apps/get-started/enable-your-device-for-development\n",
      "  warnings.warn(message)\n"
     ]
    }
   ],
   "source": [
    "# Charger le modèle et le processeur\n",
    "model = DetrForObjectDetection.from_pretrained(\"facebook/detr-resnet-50\")\n",
    "processor = DetrImageProcessor.from_pretrained(\"facebook/detr-resnet-50\")"
   ]
  },
  {
   "cell_type": "code",
   "execution_count": 23,
   "metadata": {},
   "outputs": [],
   "source": [
    "# Charger une image\n",
    "image = Image.open(\"Lionel-Messi-Kylian-Mbappe-Paris-gagnant.jpg\")"
   ]
  },
  {
   "cell_type": "code",
   "execution_count": 24,
   "metadata": {},
   "outputs": [],
   "source": [
    "# Préparer l'image et faire des prédictions\n",
    "inputs = processor(images=image, return_tensors=\"pt\")\n",
    "outputs = model(**inputs)"
   ]
  },
  {
   "cell_type": "code",
   "execution_count": 25,
   "metadata": {},
   "outputs": [],
   "source": [
    "# Extraire les résultats\n",
    "logits = outputs.logits\n",
    "probas = logits.softmax(-1)\n",
    "boxes = outputs.pred_boxes"
   ]
  },
  {
   "cell_type": "code",
   "execution_count": 26,
   "metadata": {},
   "outputs": [],
   "source": [
    "from PIL import ImageDraw\n",
    "\n",
    "# Créer un objet de dessin pour l'image\n",
    "draw = ImageDraw.Draw(image)\n",
    "\n",
    "# Classe ID de \"person\"\n",
    "id2label = model.config.id2label  # Map des IDs aux labels\n",
    "person_id = [k for k, v in id2label.items() if v == \"person\"][0]\n",
    "\n",
    "# Réduire la première dimension (batch size)\n",
    "probas = probas[0]\n",
    "boxes = boxes[0]\n",
    "\n",
    "for i, (box, scores) in enumerate(zip(boxes, probas)):\n",
    "    # Extraire la probabilité pour la classe \"person\"\n",
    "    score = scores[person_id].item()\n",
    "\n",
    "    if score > 0.5:  # Seuil de confiance\n",
    "        # Convertir les coordonnées en pixels\n",
    "        box = box.detach().numpy() * [image.width, image.height, image.width, image.height]\n",
    "        x_min, y_min, x_max, y_max = map(int, box)\n",
    "\n",
    "        # Vérifier et corriger les coordonnées\n",
    "        x_min = max(0, min(image.width, x_min))\n",
    "        y_min = max(0, min(image.height, y_min))\n",
    "        x_max = max(0, min(image.width, x_max))\n",
    "        y_max = max(0, min(image.height, y_max))\n",
    "\n",
    "        # S'assurer que les coordonnées forment une boîte valide\n",
    "        if x_min < x_max and y_min < y_max:\n",
    "            # Dessiner le rectangle\n",
    "            draw.rectangle([x_min, y_min, x_max, y_max], outline=\"red\", width=3)\n",
    "            draw.text((x_min, y_min), f\"Person: {score:.2f}\", fill=\"red\")\n",
    "\n",
    "\n",
    "# Afficher ou sauvegarder l'image annotée\n",
    "image.show()  # Pour ouvrir dans une visionneuse d'images\n",
    "# image.save(\"output.jpg\")  # Pour enregistrer l'image annotée\n"
   ]
  },
  {
   "cell_type": "code",
   "execution_count": 9,
   "metadata": {},
   "outputs": [
    {
     "ename": "AttributeError",
     "evalue": "'DetrImageProcessor' object has no attribute 'draw_boxes'",
     "output_type": "error",
     "traceback": [
      "\u001b[1;31m---------------------------------------------------------------------------\u001b[0m",
      "\u001b[1;31mAttributeError\u001b[0m                            Traceback (most recent call last)",
      "Cell \u001b[1;32mIn[9], line 4\u001b[0m\n\u001b[0;32m      2\u001b[0m \u001b[38;5;28;01mfor\u001b[39;00m proba, box \u001b[38;5;129;01min\u001b[39;00m \u001b[38;5;28mzip\u001b[39m(probas[\u001b[38;5;241m0\u001b[39m, :, :\u001b[38;5;241m-\u001b[39m\u001b[38;5;241m1\u001b[39m], boxes[\u001b[38;5;241m0\u001b[39m]):\n\u001b[0;32m      3\u001b[0m     \u001b[38;5;28;01mif\u001b[39;00m proba\u001b[38;5;241m.\u001b[39mmax() \u001b[38;5;241m>\u001b[39m \u001b[38;5;241m0.9\u001b[39m:\n\u001b[1;32m----> 4\u001b[0m         processor\u001b[38;5;241m.\u001b[39mdraw_boxes(image, box)\n",
      "\u001b[1;31mAttributeError\u001b[0m: 'DetrImageProcessor' object has no attribute 'draw_boxes'"
     ]
    }
   ],
   "source": [
    "# Afficher les prédictions\n",
    "for proba, box in zip(probas[0, :, :-1], boxes[0]):\n",
    "    if proba.max() > 0.9:\n",
    "        processor.draw_boxes(image, box)"
   ]
  }
 ],
 "metadata": {
  "kernelspec": {
   "display_name": "base",
   "language": "python",
   "name": "python3"
  },
  "language_info": {
   "codemirror_mode": {
    "name": "ipython",
    "version": 3
   },
   "file_extension": ".py",
   "mimetype": "text/x-python",
   "name": "python",
   "nbconvert_exporter": "python",
   "pygments_lexer": "ipython3",
   "version": "3.12.7"
  }
 },
 "nbformat": 4,
 "nbformat_minor": 2
}
